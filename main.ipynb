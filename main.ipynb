{
 "cells": [
  {
   "cell_type": "code",
   "execution_count": 8,
   "metadata": {},
   "outputs": [],
   "source": [
    "from corpus_handler import CorpusHandler"
   ]
  },
  {
   "cell_type": "code",
   "execution_count": 10,
   "metadata": {},
   "outputs": [],
   "source": [
    "import os"
   ]
  },
  {
   "cell_type": "code",
   "execution_count": 11,
   "metadata": {},
   "outputs": [],
   "source": [
    "ch = CorpusHandler(os.getcwd() + \"\\\\Corpus\\\\*.txt\", 'portuguese')"
   ]
  },
  {
   "cell_type": "code",
   "execution_count": 12,
   "metadata": {},
   "outputs": [],
   "source": [
    "## Bigrams of Document 1"
   ]
  },
  {
   "cell_type": "code",
   "execution_count": 14,
   "metadata": {},
   "outputs": [
    {
     "name": "stdout",
     "output_type": "stream",
     "text": [
      "ilustríssim senhor, senhor manuel, manuel ignáci, ignáci cunh, cunh menez, menez rio, rio janeir, janeir 16, 16 setembr, setembr 1809, 1809 serv, serv ir, ir recomend, recomend lembranc, lembranc voss, voss senhor, senhor dar, dar parabéns, parabéns despach, despach lev, lev senhor, senhor inspetor, inspetor geral, geral trop, trop abon, abon voss, voss senhor, senhor servic, servic milit, milit aind, aind tod, tod reconhec, reconhec util, util dest, dest servic, servic naçã, naçã todav, todav compraz, compraz ver, ver voss, voss senhor, senhor implic, implic subordin, subordin disciplin, disciplin e, e send, send necessári, necessári servic, servic penos, penos destac, destac etc, etc etc, etc particip, particip voss, voss senhor, senhor merc, merc altez, altez imperial, imperial fez, fez filh, filh lug, lug oficial, oficial secret, secret estad, estad negóci, negóci estrangeir, estrangeir guerr, guerr onde, onde voss, voss senhor, senhor dev, dev lanc, lanc procur, procur comadr, comadr filh, filh recomend, recomend voss, voss senhor, senhor pesso, pesso voss, voss senhor, senhor guard, guard deus, deus muit, muit anos, anos voss, voss senhor, senhor amig, amig obrigadíssim, obrigadíssim cri, cri jos, jos silv, silv lisbo\n"
     ]
    }
   ],
   "source": [
    "print(*map(' '.join, ch.get_bigrams(1)), sep=', ')"
   ]
  },
  {
   "cell_type": "code",
   "execution_count": 15,
   "metadata": {},
   "outputs": [],
   "source": [
    "## Trigrams of Document 1"
   ]
  },
  {
   "cell_type": "code",
   "execution_count": 16,
   "metadata": {},
   "outputs": [
    {
     "name": "stdout",
     "output_type": "stream",
     "text": [
      "ilustríssim senhor manuel, senhor manuel ignáci, manuel ignáci cunh, ignáci cunh menez, cunh menez rio, menez rio janeir, rio janeir 16, janeir 16 setembr, 16 setembr 1809, setembr 1809 serv, 1809 serv ir, serv ir recomend, ir recomend lembranc, recomend lembranc voss, lembranc voss senhor, voss senhor dar, senhor dar parabéns, dar parabéns despach, parabéns despach lev, despach lev senhor, lev senhor inspetor, senhor inspetor geral, inspetor geral trop, geral trop abon, trop abon voss, abon voss senhor, voss senhor servic, senhor servic milit, servic milit aind, milit aind tod, aind tod reconhec, tod reconhec util, reconhec util dest, util dest servic, dest servic naçã, servic naçã todav, naçã todav compraz, todav compraz ver, compraz ver voss, ver voss senhor, voss senhor implic, senhor implic subordin, implic subordin disciplin, subordin disciplin e, disciplin e send, e send necessári, send necessári servic, necessári servic penos, servic penos destac, penos destac etc, destac etc etc, etc etc particip, etc particip voss, particip voss senhor, voss senhor merc, senhor merc altez, merc altez imperial, altez imperial fez, imperial fez filh, fez filh lug, filh lug oficial, lug oficial secret, oficial secret estad, secret estad negóci, estad negóci estrangeir, negóci estrangeir guerr, estrangeir guerr onde, guerr onde voss, onde voss senhor, voss senhor dev, senhor dev lanc, dev lanc procur, lanc procur comadr, procur comadr filh, comadr filh recomend, filh recomend voss, recomend voss senhor, voss senhor pesso, senhor pesso voss, pesso voss senhor, voss senhor guard, senhor guard deus, guard deus muit, deus muit anos, muit anos voss, anos voss senhor, voss senhor amig, senhor amig obrigadíssim, amig obrigadíssim cri, obrigadíssim cri jos, cri jos silv, jos silv lisbo\n"
     ]
    }
   ],
   "source": [
    "print(*map(' '.join, ch.get_trigrams(1)), sep=', ')"
   ]
  },
  {
   "cell_type": "code",
   "execution_count": 17,
   "metadata": {},
   "outputs": [],
   "source": [
    "## 10 most frequent terms"
   ]
  },
  {
   "cell_type": "code",
   "execution_count": 19,
   "metadata": {},
   "outputs": [
    {
     "name": "stdout",
     "output_type": "stream",
     "text": [
      "[('voss', 378), ('amig', 351), ('senhor', 284), ('excelent', 272), ('tod', 178), ('pod', 110), ('excelentíssim', 107), ('mand', 106), ('cart', 104), ('aqu', 101)]\n"
     ]
    }
   ],
   "source": [
    "print(ch.get_corpus_frequent_terms(10))"
   ]
  },
  {
   "cell_type": "code",
   "execution_count": 20,
   "metadata": {},
   "outputs": [],
   "source": [
    "## First document LDA Model"
   ]
  },
  {
   "cell_type": "code",
   "execution_count": 21,
   "metadata": {},
   "outputs": [
    {
     "name": "stdout",
     "output_type": "stream",
     "text": [
      "[(0, '0.013*\"senhor\" + 0.012*\"voss\" + 0.012*\"amig\"')]\n"
     ]
    }
   ],
   "source": [
    "lda = ch.get_LDA_modelling()\n",
    "print(lda.print_topics(num_topics=1, num_words=3))"
   ]
  },
  {
   "cell_type": "code",
   "execution_count": null,
   "metadata": {},
   "outputs": [],
   "source": []
  }
 ],
 "metadata": {
  "file_extension": ".py",
  "kernelspec": {
   "display_name": "Python 3",
   "language": "python",
   "name": "python3"
  },
  "language_info": {
   "codemirror_mode": {
    "name": "ipython",
    "version": 3
   },
   "file_extension": ".py",
   "mimetype": "text/x-python",
   "name": "python",
   "nbconvert_exporter": "python",
   "pygments_lexer": "ipython3",
   "version": "3.7.4"
  },
  "mimetype": "text/x-python",
  "name": "python",
  "npconvert_exporter": "python",
  "pygments_lexer": "ipython3",
  "version": 3
 },
 "nbformat": 4,
 "nbformat_minor": 2
}
